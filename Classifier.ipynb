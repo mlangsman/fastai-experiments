{
  "nbformat": 4,
  "nbformat_minor": 0,
  "metadata": {
    "colab": {
      "provenance": [],
      "authorship_tag": "ABX9TyP3/EemxN53BubTOtKmjorl",
      "include_colab_link": true
    },
    "kernelspec": {
      "name": "python3",
      "display_name": "Python 3"
    },
    "language_info": {
      "name": "python"
    }
  },
  "cells": [
    {
      "cell_type": "markdown",
      "metadata": {
        "id": "view-in-github",
        "colab_type": "text"
      },
      "source": [
        "<a href=\"https://colab.research.google.com/github/mlangsman/fastai-experiments/blob/main/Classifier.ipynb\" target=\"_parent\"><img src=\"https://colab.research.google.com/assets/colab-badge.svg\" alt=\"Open In Colab\"/></a>"
      ]
    },
    {
      "cell_type": "markdown",
      "source": [
        "# 🤖 Classifier Experiment"
      ],
      "metadata": {
        "id": "Zp3psduXp2PN"
      }
    },
    {
      "cell_type": "markdown",
      "source": [
        "## 📁 Install dependencies\n",
        "\n",
        "We need the Fastai library for model training and DuckDuckGo search to retrieve images for our dataset.\n"
      ],
      "metadata": {
        "id": "dVgy6dSfqnpF"
      }
    },
    {
      "cell_type": "code",
      "execution_count": 1,
      "metadata": {
        "id": "nWVy_dM2pLzR"
      },
      "outputs": [],
      "source": [
        "!pip install -Uqq fastai ddgs"
      ]
    },
    {
      "cell_type": "markdown",
      "source": [
        "## Download images\n",
        "\n",
        "Create a function which can download images using the DuckDuckGo API for training."
      ],
      "metadata": {
        "id": "9Vf7Oq5CsWFE"
      }
    },
    {
      "cell_type": "code",
      "source": [
        "from ddgs import DDGS\n",
        "from fastcore.all import *\n",
        "\n",
        "def search_images(keywords, max_images=20):\n",
        "  results = DDGS().images(keywords, max_results=max_images) #run a search\n",
        "  imageUrls = L(results).itemgot('image') #extract just image urls\n",
        "  return imageUrls\n"
      ],
      "metadata": {
        "id": "-oZJT5NfsfMu"
      },
      "execution_count": 2,
      "outputs": []
    },
    {
      "cell_type": "markdown",
      "source": [
        "Classifying UPF food is a little trickier than say cats/dogs. Here I create a list of search terms for specific foods and so we can then grab images for each\n"
      ],
      "metadata": {
        "id": "vfUy6AgA3VwU"
      }
    },
    {
      "cell_type": "code",
      "source": [
        "# Ultra-processed food terms (UPF)\n",
        "upf_terms = [\n",
        "    \"Big Mac burger\",\n",
        "    \"Doritos crisps\",\n",
        "    \"KitKat bar\",\n",
        "    \"Oreo cookies\",\n",
        "    \"Pringles tube\",\n",
        "    \"Pot Noodle\",\n",
        "    \"Twix bar\",\n",
        "    \"Haribo sweets\",\n",
        "    \"Coca-Cola can\",\n",
        "    \"Fanta bottle\",\n",
        "    \"Red Bull can\",\n",
        "    \"Pop-Tarts\",\n",
        "    \"Ben & Jerry's ice cream tub\",\n",
        "    \"Chicken nuggets\",\n",
        "    \"Pepperami\",\n",
        "    \"Frozen pizza\",\n",
        "    \"Pot noodle\",\n",
        "    \"Mars bar\",\n",
        "    \"Snickers bar\",\n",
        "    \"Chocolate bar\"\n",
        "    \"Walkers crisps\",\n",
        "    \"Crisps\"\n",
        "]\n",
        "\n",
        "# Fresh / minimally-processed foods\n",
        "fresh_terms = [\n",
        "    \"Apple fruit\",\n",
        "    \"Banana fruit\",\n",
        "    \"Broccoli\",\n",
        "    \"Carrot\",\n",
        "    \"Tomato\",\n",
        "    \"Cucumber\",\n",
        "    \"Lettuce\",\n",
        "    \"Blueberries\",\n",
        "    \"Strawberries\",\n",
        "    \"Eggs\",\n",
        "    \"Whole chicken raw\",\n",
        "    \"Salmon fillet\",\n",
        "    \"Beef steak\",\n",
        "    \"Brown rice bowl\",\n",
        "    \"Oats porridge\",\n",
        "    \"Almonds nuts\",\n",
        "    \"Avocado\",\n",
        "    \"Red bell pepper\",\n",
        "    \"Courgette\",\n",
        "    \"Mushrooms\"\n",
        "]"
      ],
      "metadata": {
        "id": "37Ws0jRa28Cn"
      },
      "execution_count": 3,
      "outputs": []
    },
    {
      "cell_type": "markdown",
      "source": [
        "Let's create a function to downloading some images for each term. FastAi's download_url() seems to stall on some urls so here I'm doing an http request instead to get the images."
      ],
      "metadata": {
        "id": "LwT00nFtEB5H"
      }
    },
    {
      "cell_type": "code",
      "source": [
        "from fastdownload import download_url\n",
        "from fastai.vision.all import *\n",
        "from io import BytesIO\n",
        "import random\n",
        "\n",
        "thumbs = []\n",
        "\n",
        "def download_image_sets(search_term_list, dest_path, max_images):\n",
        "  for item in search_term_list:\n",
        "    urls = search_images(item, max_images=max_images)\n",
        "    for i, url in enumerate(urls):\n",
        "      file_name = f\"{item.replace(' ', '_')}_{i}.jpg\"\n",
        "      dest = dest_path/file_name\n",
        "      try:\n",
        "        r = requests.get(url, timeout=4, headers={\"User-Agent\": \"Mozilla/5.0\"})\n",
        "        r.raise_for_status()\n",
        "        if \"image\" not in r.headers.get(\"Content-Type\", \"\"): # skip non-image content\n",
        "          continue\n",
        "\n",
        "        # Create image from raw bytes and also write to disk\n",
        "        img = PILImage.create(BytesIO(r.content))\n",
        "        with open(dest, \"wb\") as f:\n",
        "                  f.write(r.content)\n",
        "        thumbs.append(img.to_thumb(64,64))\n",
        "      except Exception as e:\n",
        "        continue\n",
        "\n",
        "  #show_images(thumbs, nrows=len(upf_terms))"
      ],
      "metadata": {
        "id": "qmjHJrDWt5XI"
      },
      "execution_count": 16,
      "outputs": []
    },
    {
      "cell_type": "markdown",
      "source": [
        "Test this out with a small no. images to check if the results make sense\n",
        "\n"
      ],
      "metadata": {
        "id": "kM-luBe8WPIG"
      }
    },
    {
      "cell_type": "code",
      "source": [
        "download_image_sets(upf_terms,3)"
      ],
      "metadata": {
        "id": "ShFa-vd_WNlz"
      },
      "execution_count": null,
      "outputs": []
    },
    {
      "cell_type": "markdown",
      "source": [
        "This looks good so lets download 10 images for each search term and save them in folders for the two categories"
      ],
      "metadata": {
        "id": "HmGLyr8rWxNP"
      }
    },
    {
      "cell_type": "code",
      "source": [
        "from time import sleep\n",
        "\n",
        "searches = {\n",
        "    \"upf\": upf_terms,\n",
        "    \"fresh\": fresh_terms\n",
        "}\n",
        "\n",
        "path = Path('upf_or_not')\n",
        "\n",
        "for label, terms in searches.items():\n",
        "    dest = (path/label)\n",
        "    dest.mkdir(exist_ok=True, parents=True)\n",
        "    download_image_sets(terms,dest,10)\n",
        "    sleep(10)  # Pause between searches to avoid over-loading server\n",
        "    resize_images(path/label, max_size=400, dest=path/label)"
      ],
      "metadata": {
        "id": "CB5awEAtNzXG"
      },
      "execution_count": null,
      "outputs": []
    },
    {
      "cell_type": "code",
      "source": [
        "rm -rf *"
      ],
      "metadata": {
        "id": "pvbAWVVoUubI"
      },
      "execution_count": 17,
      "outputs": []
    }
  ]
}